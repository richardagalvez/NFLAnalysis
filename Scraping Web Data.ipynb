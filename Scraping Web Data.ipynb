{
 "cells": [
  {
   "cell_type": "markdown",
   "metadata": {},
   "source": [
    "# Who should you take in the NFL draft? - Webscrape"
   ]
  },
  {
   "cell_type": "markdown",
   "metadata": {},
   "source": [
    "Machine learning has had many impacts across multiple fields and industries in at least the past 10 years. In sports, statistics began playing a large role in team design and recruitment, especially after the success of the Oakland A's in the early 2000's using the methods outlined in the book and movie *Money Ball*. To read more about the use of statistics in Baseball, see [Sabremetrics in wikipedia](https://en.wikipedia.org/wiki/Sabermetrics).\n",
    "\n",
    "I happen to live under a rock, so I hadn't actually seen *Money Ball* until very recently on a flight-- and, wow, what an awesome movie! I was quite inspired after watching it and thought by this time probably all kinds of stats are being used to guide business and sports decisions in all major sports. I'm a huge AI and machine learning (intelligence) aficionado, and I've been a lifelong sufferer as a Miami Dolphins fan, so I decided why not check out some NFL datasets and see if one can make predictions on the success rate of certain players? Maybe the poor Dolphins could be better advised on who to draft."
   ]
  },
  {
   "cell_type": "markdown",
   "metadata": {},
   "source": [
    "To get started, first thing we need is data. After looking around the web a bit, I found that http://www.pro-football-reference.com/ has some pretty easily accessible (and machine readable) table data available on the Combine resulst and also historic probowl data.\n",
    "\n",
    "So the question is pretty clear, could we predict, based on Combine metrics alone, which player, by position will most likely become a probowler?"
   ]
  },
  {
   "cell_type": "code",
   "execution_count": 2,
   "metadata": {
    "collapsed": false
   },
   "outputs": [],
   "source": [
    "import pandas as pd\n",
    "import numpy as np\n",
    "import warnings\n",
    "warnings.filterwarnings('ignore')"
   ]
  },
  {
   "cell_type": "markdown",
   "metadata": {},
   "source": [
    "Above I just import some libraries we need to the webscraping (the focus of this notebook). The next thing we need is a list of probowlers and combine data per year. This can be accomplished by stripping the information off of the reference listed above. \n",
    "\n",
    "Of course being dirty web data, we have to do some cleaning! Below I do the following:\n",
    "\n",
    "* Certain players' names in the probowl list come with a '+' or '\\*' to designate special status (for example, MVP of game or secondary selection). We're trying to train on simply if they went to the probowl so we remove those. \n",
    "\n",
    "\n",
    "* Also, I modify the height from a feet-inches format to just inches,\n",
    "\n",
    "\n",
    "* drop the duplicates, \n",
    "\n",
    "\n",
    "* add a column if the player has made it to the probowl, \n",
    "\n",
    "\n",
    "* drop columns we don't need and save the dataframe as a csv for later analysis."
   ]
  },
  {
   "cell_type": "code",
   "execution_count": 14,
   "metadata": {
    "collapsed": false
   },
   "outputs": [],
   "source": [
    "probowlers = []\n",
    "\n",
    "df = pd.read_html('http://www.pro-football-reference.com/play-index/nfl-combine-results.cgi?request=1&year_min=2000&year_max=2000&height_min=65&height_max=82&weight_min=149&weight_max=375&pos=K&show=p&order_by=year_id')[0]\n",
    "\n",
    "# the 'range' of the range function is from range(first, last + 1).\n",
    "\n",
    "for year in range(2000,2003):\n",
    "    df1 = pd.read_html('http://www.pro-football-reference.com/play-index/nfl-combine-results.cgi?request=1&year_min=%s&year_max=%s&height_min=65&height_max=82&weight_min=149&weight_max=375&pos=QB&pos=WR&pos=TE&pos=RB&pos=FB&pos=OT&pos=OG&pos=C&show=p&order_by=year_id' % (year, year))[0]\n",
    "    df2 = pd.read_html('http://www.pro-football-reference.com/play-index/nfl-combine-results.cgi?request=1&year_min=%s&year_max=%s&height_min=65&height_max=82&weight_min=149&weight_max=375&pos=DE&pos=DT&pos=ILB&pos=OLB&pos=SS&pos=FS&pos=CB&show=p&order_by=year_id' % (year, year))[0]\n",
    "    df3 = pd.read_html('http://www.pro-football-reference.com/play-index/nfl-combine-results.cgi?request=1&year_min=%s&year_max=%s&height_min=65&height_max=82&weight_min=149&weight_max=375&pos=LS&pos=K&pos=P&show=p&order_by=year_id' % (year, year))[0]\n",
    "    df = pd.concat([df, df1, df2, df3], ignore_index=True)\n",
    "    probowlers += pd.read_html('http://www.pro-football-reference.com/years/%s/probowl.htm' % year)[0]['Unnamed: 1'].tolist()\n",
    "\n",
    "probowlers = [s.replace('+', '').replace('*','').replace('%', '').replace('&', '') for s in probowlers]\n",
    "\n",
    "df = df.drop(df[df['Player']=='Player'].index)\n",
    "df['Height_inches'] = 12*df['Height'].str.extract('([0-9]+)-([0-9]*\\.?[0-9]+)')[0].astype(int) + df['Height'].str.extract('([0-9]+)-([0-9]*\\.?[0-9]+)')[1].astype(int)\n",
    "            \n",
    "drop_columns = ['Rk', 'AV', 'College', 'Drafted (tm/rnd/yr)', 'Height']\n",
    "df = df.drop(drop_columns,1)\n",
    "df = df.drop_duplicates()\n",
    "\n",
    "probowlers = list(set(probowlers))\n",
    "\n",
    "df['Probowl'] = df['Player'].isin(probowlers)\n",
    "\n",
    "numeric_cols = ['Year','Wt', '40YD', 'Vertical', 'BenchReps', 'Broad Jump', '3Cone', 'Shuttle', 'Height_inches']\n",
    "\n",
    "df[numeric_cols] = df[numeric_cols].astype(np.number)\n",
    "\n",
    "df['Probowl'] = df['Probowl'].astype('category')\n",
    "\n",
    "#df.drop('Unnamed: 0',1)\n",
    "\n",
    "df.to_csv('/Users/richard/data/NFL.csv', index_label='idx')"
   ]
  },
  {
   "cell_type": "markdown",
   "metadata": {},
   "source": [
    "Running the above cell will produce a csv file we can later analyze (see the other notebooks in this series for position by position analysis)."
   ]
  },
  {
   "cell_type": "code",
   "execution_count": 17,
   "metadata": {
    "collapsed": false
   },
   "outputs": [],
   "source": [
    "df = pd.read_csv('/Users/richard/data/NFL.csv', index_col='idx')"
   ]
  },
  {
   "cell_type": "code",
   "execution_count": 18,
   "metadata": {
    "collapsed": false
   },
   "outputs": [
    {
     "data": {
      "text/html": [
       "<div>\n",
       "<table border=\"1\" class=\"dataframe\">\n",
       "  <thead>\n",
       "    <tr style=\"text-align: right;\">\n",
       "      <th></th>\n",
       "      <th>Year</th>\n",
       "      <th>Player</th>\n",
       "      <th>Pos</th>\n",
       "      <th>School</th>\n",
       "      <th>Wt</th>\n",
       "      <th>40YD</th>\n",
       "      <th>Vertical</th>\n",
       "      <th>BenchReps</th>\n",
       "      <th>Broad Jump</th>\n",
       "      <th>3Cone</th>\n",
       "      <th>Shuttle</th>\n",
       "      <th>Height_inches</th>\n",
       "      <th>Probowl</th>\n",
       "    </tr>\n",
       "    <tr>\n",
       "      <th>idx</th>\n",
       "      <th></th>\n",
       "      <th></th>\n",
       "      <th></th>\n",
       "      <th></th>\n",
       "      <th></th>\n",
       "      <th></th>\n",
       "      <th></th>\n",
       "      <th></th>\n",
       "      <th></th>\n",
       "      <th></th>\n",
       "      <th></th>\n",
       "      <th></th>\n",
       "      <th></th>\n",
       "    </tr>\n",
       "  </thead>\n",
       "  <tbody>\n",
       "    <tr>\n",
       "      <th>0</th>\n",
       "      <td>2000.0</td>\n",
       "      <td>Sebastian Janikowski</td>\n",
       "      <td>K</td>\n",
       "      <td>Florida State</td>\n",
       "      <td>260.0</td>\n",
       "      <td>NaN</td>\n",
       "      <td>NaN</td>\n",
       "      <td>NaN</td>\n",
       "      <td>NaN</td>\n",
       "      <td>NaN</td>\n",
       "      <td>NaN</td>\n",
       "      <td>73.0</td>\n",
       "      <td>False</td>\n",
       "    </tr>\n",
       "    <tr>\n",
       "      <th>1</th>\n",
       "      <td>2000.0</td>\n",
       "      <td>Jake Arians</td>\n",
       "      <td>K</td>\n",
       "      <td>Alabama-Birmingham</td>\n",
       "      <td>202.0</td>\n",
       "      <td>NaN</td>\n",
       "      <td>NaN</td>\n",
       "      <td>NaN</td>\n",
       "      <td>NaN</td>\n",
       "      <td>NaN</td>\n",
       "      <td>NaN</td>\n",
       "      <td>70.0</td>\n",
       "      <td>False</td>\n",
       "    </tr>\n",
       "    <tr>\n",
       "      <th>2</th>\n",
       "      <td>2000.0</td>\n",
       "      <td>Doug Chapman</td>\n",
       "      <td>RB</td>\n",
       "      <td>Marshall</td>\n",
       "      <td>215.0</td>\n",
       "      <td>4.56</td>\n",
       "      <td>38.5</td>\n",
       "      <td>16.0</td>\n",
       "      <td>128.0</td>\n",
       "      <td>6.84</td>\n",
       "      <td>4.2</td>\n",
       "      <td>70.0</td>\n",
       "      <td>False</td>\n",
       "    </tr>\n",
       "    <tr>\n",
       "      <th>3</th>\n",
       "      <td>2000.0</td>\n",
       "      <td>Kwame Cavil</td>\n",
       "      <td>WR</td>\n",
       "      <td>Texas</td>\n",
       "      <td>208.0</td>\n",
       "      <td>4.54</td>\n",
       "      <td>39.5</td>\n",
       "      <td>NaN</td>\n",
       "      <td>118.0</td>\n",
       "      <td>NaN</td>\n",
       "      <td>NaN</td>\n",
       "      <td>74.0</td>\n",
       "      <td>False</td>\n",
       "    </tr>\n",
       "    <tr>\n",
       "      <th>4</th>\n",
       "      <td>2000.0</td>\n",
       "      <td>Trung Canidate</td>\n",
       "      <td>RB</td>\n",
       "      <td>Arizona</td>\n",
       "      <td>193.0</td>\n",
       "      <td>4.41</td>\n",
       "      <td>NaN</td>\n",
       "      <td>18.0</td>\n",
       "      <td>NaN</td>\n",
       "      <td>NaN</td>\n",
       "      <td>NaN</td>\n",
       "      <td>71.0</td>\n",
       "      <td>False</td>\n",
       "    </tr>\n",
       "  </tbody>\n",
       "</table>\n",
       "</div>"
      ],
      "text/plain": [
       "       Year                Player Pos              School     Wt  40YD  \\\n",
       "idx                                                                      \n",
       "0    2000.0  Sebastian Janikowski   K       Florida State  260.0   NaN   \n",
       "1    2000.0           Jake Arians   K  Alabama-Birmingham  202.0   NaN   \n",
       "2    2000.0          Doug Chapman  RB            Marshall  215.0  4.56   \n",
       "3    2000.0           Kwame Cavil  WR               Texas  208.0  4.54   \n",
       "4    2000.0        Trung Canidate  RB             Arizona  193.0  4.41   \n",
       "\n",
       "     Vertical  BenchReps  Broad Jump  3Cone  Shuttle  Height_inches Probowl  \n",
       "idx                                                                          \n",
       "0         NaN        NaN         NaN    NaN      NaN           73.0   False  \n",
       "1         NaN        NaN         NaN    NaN      NaN           70.0   False  \n",
       "2        38.5       16.0       128.0   6.84      4.2           70.0   False  \n",
       "3        39.5        NaN       118.0    NaN      NaN           74.0   False  \n",
       "4         NaN       18.0         NaN    NaN      NaN           71.0   False  "
      ]
     },
     "execution_count": 18,
     "metadata": {},
     "output_type": "execute_result"
    }
   ],
   "source": [
    "df.head()"
   ]
  },
  {
   "cell_type": "code",
   "execution_count": null,
   "metadata": {
    "collapsed": true
   },
   "outputs": [],
   "source": []
  }
 ],
 "metadata": {
  "anaconda-cloud": {},
  "kernelspec": {
   "display_name": "Python [default]",
   "language": "python",
   "name": "python3"
  },
  "language_info": {
   "codemirror_mode": {
    "name": "ipython",
    "version": 3
   },
   "file_extension": ".py",
   "mimetype": "text/x-python",
   "name": "python",
   "nbconvert_exporter": "python",
   "pygments_lexer": "ipython3",
   "version": "3.5.2"
  }
 },
 "nbformat": 4,
 "nbformat_minor": 0
}
